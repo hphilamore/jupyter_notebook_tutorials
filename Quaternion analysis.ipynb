{
 "cells": [
  {
   "cell_type": "markdown",
   "metadata": {},
   "source": [
    "I'll study the reason why singularities occur when converting from quaternions to Euler angles, but not the other way around. The reference implementation used is from ROS's [tf package](https://github.com/ros/geometry), in [tf/src/tf/transformations.py](https://github.com/ros/geometry/blob/8a8a91d5eca12b7ff376b1b95f69563d87132c76/tf/src/tf/transformations.py).\n",
    "\n",
    "Let's first import the packages we'll need."
   ]
  },
  {
   "cell_type": "code",
   "execution_count": 62,
   "metadata": {
    "collapsed": false
   },
   "outputs": [],
   "source": [
    "import math\n",
    "\n",
    "import matplotlib.pyplot as plt\n",
    "%matplotlib inline\n",
    "\n",
    "import numpy  # Used as such by `tf`\n",
    "import numpy as np\n",
    "\n",
    "import sympy as sm\n",
    "from sympy.physics.quantum import TensorProduct\n",
    "\n",
    "sm.init_printing()\n",
    "x, y, z, w = sm.symbols(\"x y z w\")"
   ]
  },
  {
   "cell_type": "markdown",
   "metadata": {},
   "source": [
    "The five functions we'll look at are:\n",
    "\n",
    "* `rotation_matrix()`, defined on [line 275](https://github.com/ros/geometry/blob/8a8a91d5eca12b7ff376b1b95f69563d87132c76/tf/src/tf/transformations.py#L275). It returns a matrix to rotate about axis defined by point and direction.\n",
    "* `quaternion_matrix()`, definded on [line 1174](https://github.com/ros/geometry/blob/8a8a91d5eca12b7ff376b1b95f69563d87132c76/tf/src/tf/transformations.py#L1174). It returns a homogeneous rotation matrix from quaternion.\n",
    "* `euler_from_matrix()`, defined on [line 1031](https://github.com/ros/geometry/blob/8a8a91d5eca12b7ff376b1b95f69563d87132c76/tf/src/tf/transformations.py#L1031). It returns Euler angles from rotation matrix for specified axis sequence.\n",
    "* `euler_from_quaternion()`, defined on [line 1089](https://github.com/ros/geometry/blob/8a8a91d5eca12b7ff376b1b95f69563d87132c76/tf/src/tf/transformations.py#L1089). It returns Euler angles from quaternion for specified axis sequence.\n",
    "* `quaternion_from_euler()`, defined on [line 1100](https://github.com/ros/geometry/blob/8a8a91d5eca12b7ff376b1b95f69563d87132c76/tf/src/tf/transformations.py#L1100). It returns a quaternion from Euler angles and axis sequence.\n",
    "\n",
    "The input quaternions are all of the form $[x, y, z, w]$; the Euler angles are roll, pitch, and yaw; and the axis sequence is one of 24 axis sequences as string or encoded tuple, shown below:\n"
   ]
  },
  {
   "cell_type": "code",
   "execution_count": 2,
   "metadata": {
    "collapsed": true
   },
   "outputs": [],
   "source": [
    "_AXES2TUPLE = {\n",
    "    'sxyz': (0, 0, 0, 0), 'sxyx': (0, 0, 1, 0), 'sxzy': (0, 1, 0, 0),\n",
    "    'sxzx': (0, 1, 1, 0), 'syzx': (1, 0, 0, 0), 'syzy': (1, 0, 1, 0),\n",
    "    'syxz': (1, 1, 0, 0), 'syxy': (1, 1, 1, 0), 'szxy': (2, 0, 0, 0),\n",
    "    'szxz': (2, 0, 1, 0), 'szyx': (2, 1, 0, 0), 'szyz': (2, 1, 1, 0),\n",
    "    'rzyx': (0, 0, 0, 1), 'rxyx': (0, 0, 1, 1), 'ryzx': (0, 1, 0, 1),\n",
    "    'rxzx': (0, 1, 1, 1), 'rxzy': (1, 0, 0, 1), 'ryzy': (1, 0, 1, 1),\n",
    "    'rzxy': (1, 1, 0, 1), 'ryxy': (1, 1, 1, 1), 'ryxz': (2, 0, 0, 1),\n",
    "    'rzxz': (2, 0, 1, 1), 'rxyz': (2, 1, 0, 1), 'rzyz': (2, 1, 1, 1)}"
   ]
  },
  {
   "cell_type": "markdown",
   "metadata": {},
   "source": [
    "The tuple contents are inner axis, parity, repetition, then frame. Two other helper variables are `_NEXT_AXIS` and `_EPS`"
   ]
  },
  {
   "cell_type": "code",
   "execution_count": 5,
   "metadata": {
    "collapsed": false
   },
   "outputs": [],
   "source": [
    "_NEXT_AXIS = [1, 2, 0, 1] # axis sequences for Euler angles\n",
    "_EPS = numpy.finfo(float).eps * 4.0  # epsilon for testing whether a number is close to zero"
   ]
  },
  {
   "cell_type": "markdown",
   "metadata": {},
   "source": [
    "Let's first import the packages we'll need."
   ]
  },
  {
   "cell_type": "markdown",
   "metadata": {},
   "source": [
    "\n",
    "# `quaternion_from_euler()`"
   ]
  },
  {
   "cell_type": "code",
   "execution_count": 14,
   "metadata": {
    "collapsed": true
   },
   "outputs": [],
   "source": [
    "def quaternion_from_euler(ai, aj, ak, axes='sxyz'):\n",
    "    \"\"\"Return quaternion from Euler angles and axis sequence.\n",
    "    ai, aj, ak : Euler's roll, pitch and yaw angles\n",
    "    axes : One of 24 axis sequences as string or encoded tuple\n",
    "    >>> q = quaternion_from_euler(1, 2, 3, 'ryxz')\n",
    "    >>> numpy.allclose(q, [0.310622, -0.718287, 0.444435, 0.435953])\n",
    "    True\n",
    "    \n",
    "    \"\"\"\n",
    "    try:\n",
    "        firstaxis, parity, repetition, frame = _AXES2TUPLE[axes.lower()]\n",
    "    except (AttributeError, KeyError):\n",
    "        _ = _TUPLE2AXES[axes]\n",
    "        firstaxis, parity, repetition, frame = axes\n",
    "\n",
    "    i = firstaxis\n",
    "    j = _NEXT_AXIS[i+parity]\n",
    "    k = _NEXT_AXIS[i-parity+1]\n",
    "\n",
    "    if frame:\n",
    "        ai, ak = ak, ai\n",
    "    if parity:\n",
    "        aj = -aj\n",
    "\n",
    "    ai /= 2.0\n",
    "    aj /= 2.0\n",
    "    ak /= 2.0\n",
    "    ci = math.cos(ai)\n",
    "    si = math.sin(ai)\n",
    "    cj = math.cos(aj)\n",
    "    sj = math.sin(aj)\n",
    "    ck = math.cos(ak)\n",
    "    sk = math.sin(ak)\n",
    "    cc = ci*ck\n",
    "    cs = ci*sk\n",
    "    sc = si*ck\n",
    "    ss = si*sk\n",
    "\n",
    "    quaternion = numpy.empty((4, ), dtype=numpy.float64)\n",
    "    if repetition:\n",
    "        quaternion[i] = cj*(cs + sc)\n",
    "        quaternion[j] = sj*(cc + ss)\n",
    "        quaternion[k] = sj*(cs - sc)\n",
    "        quaternion[3] = cj*(cc - ss)\n",
    "    else:\n",
    "        quaternion[i] = cj*sc - sj*cs\n",
    "        quaternion[j] = cj*ss + sj*cc\n",
    "        quaternion[k] = cj*cs - sj*sc\n",
    "        quaternion[3] = cj*cc + sj*ss\n",
    "    if parity:\n",
    "        quaternion[j] *= -1\n",
    "\n",
    "    return quaternion"
   ]
  },
  {
   "cell_type": "markdown",
   "metadata": {},
   "source": [
    "We know that singularities are caused by certain values approaching infinity. This usually happens with division by zero, or with a function with an asymptotic range. None of the mathematical operations in `quaternion_from_euler()` cause a singularity, while the functions are $\\cos$ and $\\sin$.\n",
    "\n",
    "Let's plot their graphs, in radians. First, we define the range of input angles we're interested in. Since we're using radians, we can plot from $-\\pi$ to $\\pi$."
   ]
  },
  {
   "cell_type": "code",
   "execution_count": 15,
   "metadata": {
    "collapsed": true
   },
   "outputs": [],
   "source": [
    "angles = np.linspace(-np.pi, np.pi)"
   ]
  },
  {
   "cell_type": "markdown",
   "metadata": {},
   "source": [
    "Let's look at the cosine and sine curves."
   ]
  },
  {
   "cell_type": "code",
   "execution_count": 124,
   "metadata": {
    "collapsed": false
   },
   "outputs": [
    {
     "data": {
      "image/png": "[encoded data removed]",
      "text/plain": [
       "<matplotlib.figure.Figure at 0x7fdae86c60f0>"
      ]
     },
     "metadata": {},
     "output_type": "display_data"
    }
   ],
   "source": [
    "fig = plt.figure()\n",
    "ax_cos = fig.add_subplot(2, 1, 1)\n",
    "ax_cos.plot(angles, np.cos(angles))\n",
    "ax_cos.set_title(\"cosine\")\n",
    "ax_sin = fig.add_subplot(2, 1, 2)\n",
    "ax_sin.plot(angles, np.sin(angles))\n",
    "ax_sin.set_title(\"sine\")\n",
    "ax_sin.set_xlabel(\"$θ$\")\n",
    "plt.tight_layout()"
   ]
  },
  {
   "cell_type": "code",
   "execution_count": null,
   "metadata": {
    "collapsed": true
   },
   "outputs": [],
   "source": [
    "f, ((ax1, ax2), (ax3, ax4)) = plt.subplots(2, 2, sharex='col', sharey='row')\n"
   ]
  },
  {
   "cell_type": "markdown",
   "metadata": {},
   "source": [
    "As we can see, the ranges of sine and cosine are always between -1 and 1. Since the divisions are with nonzero constants, it is clear that `quaternion_from_euler()` can cause no singularities, no matter the inputs."
   ]
  },
  {
   "cell_type": "markdown",
   "metadata": {},
   "source": [
    "# `euler_from_quaternion()`\n",
    "\n",
    "`euler_from_quaternion()` simply calls `euler_from_matrix()` using a quaternion matrix. This is the function that is known to cause singularities."
   ]
  },
  {
   "cell_type": "code",
   "execution_count": 17,
   "metadata": {
    "collapsed": true
   },
   "outputs": [],
   "source": [
    "def euler_from_quaternion(quaternion, axes='sxyz'):\n",
    "    \"\"\"Return Euler angles from quaternion for specified axis sequence.\n",
    "    >>> angles = euler_from_quaternion([0.06146124, 0, 0, 0.99810947])\n",
    "    >>> numpy.allclose(angles, [0.123, 0, 0])\n",
    "    True\n",
    "\n",
    "    \"\"\"\n",
    "    return euler_from_matrix(quaternion_matrix(quaternion), axes)"
   ]
  },
  {
   "cell_type": "markdown",
   "metadata": {},
   "source": [
    "## `quaternion_matrix()`"
   ]
  },
  {
   "cell_type": "code",
   "execution_count": 18,
   "metadata": {
    "collapsed": true
   },
   "outputs": [],
   "source": [
    "def quaternion_matrix(quaternion):\n",
    "    \"\"\"Return homogeneous rotation matrix from quaternion.\n",
    "    >>> R = quaternion_matrix([0.06146124, 0, 0, 0.99810947])\n",
    "    >>> numpy.allclose(R, rotation_matrix(0.123, (1, 0, 0)))\n",
    "    True\n",
    "    \n",
    "    \"\"\"\n",
    "    q = numpy.array(quaternion[:4], dtype=numpy.float64, copy=True)\n",
    "    nq = numpy.dot(q, q)\n",
    "    if nq < _EPS:\n",
    "        return numpy.identity(4)\n",
    "    q *= math.sqrt(2.0 / nq)\n",
    "    q = numpy.outer(q, q)\n",
    "    return numpy.array((\n",
    "        (1.0-q[1, 1]-q[2, 2],     q[0, 1]-q[2, 3],     q[0, 2]+q[1, 3], 0.0),\n",
    "        (    q[0, 1]+q[2, 3], 1.0-q[0, 0]-q[2, 2],     q[1, 2]-q[0, 3], 0.0),\n",
    "        (    q[0, 2]-q[1, 3],     q[1, 2]+q[0, 3], 1.0-q[0, 0]-q[1, 1], 0.0),\n",
    "        (                0.0,                 0.0,                 0.0, 1.0)\n",
    "        ), dtype=numpy.float64)"
   ]
  },
  {
   "cell_type": "markdown",
   "metadata": {},
   "source": [
    "`nq` is the dot product of the quaternion by itself, which is the square of the length. If that length is zero, then an identity matrix is returned. If it is not zero, the quaternion is normalized to a length of $\\sqrt{2}$ and manipulated with addition, subtraction, and multiplication. The singularity does not come from here.\n",
    "\n",
    "These are the contents of the matrix."
   ]
  },
  {
   "cell_type": "code",
   "execution_count": 19,
   "metadata": {
    "collapsed": false
   },
   "outputs": [
    {
     "data": {
      "image/png": "[encoded data removed]",
      "text/latex": [
       "$$\\left[\\begin{matrix}x^{2} & x y & x z & w x\\\\x y & y^{2} & y z & w y\\\\x z & y z & z^{2} & w z\\\\w x & w y & w z & w^{2}\\end{matrix}\\right]$$"
      ],
      "text/plain": [
       "⎡ 2                ⎤\n",
       "⎢x    x⋅y  x⋅z  w⋅x⎥\n",
       "⎢                  ⎥\n",
       "⎢      2           ⎥\n",
       "⎢x⋅y  y    y⋅z  w⋅y⎥\n",
       "⎢                  ⎥\n",
       "⎢           2      ⎥\n",
       "⎢x⋅z  y⋅z  z    w⋅z⎥\n",
       "⎢                  ⎥\n",
       "⎢                2 ⎥\n",
       "⎣w⋅x  w⋅y  w⋅z  w  ⎦"
      ]
     },
     "execution_count": 19,
     "metadata": {},
     "output_type": "execute_result"
    }
   ],
   "source": [
    "q = sm.Matrix([[x, y, z, w]])  # Assume already normalized to sqrt(2) length\n",
    "M = TensorProduct(q, q.T)\n",
    "M"
   ]
  },
  {
   "cell_type": "markdown",
   "metadata": {},
   "source": [
    "## `euler_from_matrix()`"
   ]
  },
  {
   "cell_type": "code",
   "execution_count": 20,
   "metadata": {
    "collapsed": true
   },
   "outputs": [],
   "source": [
    "def euler_from_matrix(matrix, axes='sxyz'):\n",
    "    \"\"\"Return Euler angles from rotation matrix for specified axis sequence.\n",
    "    axes : One of 24 axis sequences as string or encoded tuple\n",
    "    Note that many Euler angle triplets can describe one matrix.\n",
    "    >>> R0 = euler_matrix(1, 2, 3, 'syxz')\n",
    "    >>> al, be, ga = euler_from_matrix(R0, 'syxz')\n",
    "    >>> R1 = euler_matrix(al, be, ga, 'syxz')\n",
    "    >>> numpy.allclose(R0, R1)\n",
    "    True\n",
    "    >>> angles = (4.0*math.pi) * (numpy.random.random(3) - 0.5)\n",
    "    >>> for axes in _AXES2TUPLE.keys():\n",
    "    ...    R0 = euler_matrix(axes=axes, *angles)\n",
    "    ...    R1 = euler_matrix(axes=axes, *euler_from_matrix(R0, axes))\n",
    "    ...    if not numpy.allclose(R0, R1): print(axes, \"failed\")\n",
    "    \n",
    "    \"\"\"\n",
    "    try:\n",
    "        firstaxis, parity, repetition, frame = _AXES2TUPLE[axes.lower()]\n",
    "    except (AttributeError, KeyError):\n",
    "        _ = _TUPLE2AXES[axes]\n",
    "        firstaxis, parity, repetition, frame = axes\n",
    "\n",
    "    i = firstaxis\n",
    "    j = _NEXT_AXIS[i+parity]\n",
    "    k = _NEXT_AXIS[i-parity+1]\n",
    "\n",
    "    M = numpy.array(matrix, dtype=numpy.float64, copy=False)[:3, :3]\n",
    "    if repetition:\n",
    "        sy = math.sqrt(M[i, j]*M[i, j] + M[i, k]*M[i, k])\n",
    "        if sy > _EPS:\n",
    "            ax = math.atan2( M[i, j],  M[i, k])\n",
    "            ay = math.atan2( sy,       M[i, i])\n",
    "            az = math.atan2( M[j, i], -M[k, i])\n",
    "        else:\n",
    "            ax = math.atan2(-M[j, k],  M[j, j])\n",
    "            ay = math.atan2( sy,       M[i, i])\n",
    "            az = 0.0\n",
    "    else:\n",
    "        cy = math.sqrt(M[i, i]*M[i, i] + M[j, i]*M[j, i])\n",
    "        if cy > _EPS:\n",
    "            ax = math.atan2( M[k, j],  M[k, k])\n",
    "            ay = math.atan2(-M[k, i],  cy)\n",
    "            az = math.atan2( M[j, i],  M[i, i])\n",
    "        else:\n",
    "            ax = math.atan2(-M[j, k],  M[j, j])\n",
    "            ay = math.atan2(-M[k, i],  cy)\n",
    "            az = 0.0\n",
    "\n",
    "    if parity:\n",
    "        ax, ay, az = -ax, -ay, -az\n",
    "    if frame:\n",
    "        ax, az = az, ax\n",
    "    return ax, ay, az"
   ]
  },
  {
   "cell_type": "markdown",
   "metadata": {},
   "source": [
    "This function has to use $\\arctan$ in order to computer the Euler angles. Let's look at the output of arctan given different inputs."
   ]
  },
  {
   "cell_type": "code",
   "execution_count": 101,
   "metadata": {
    "collapsed": false,
    "scrolled": false
   },
   "outputs": [
    {
     "name": "stderr",
     "output_type": "stream",
     "text": [
      "/usr/local/lib/python3.4/dist-packages/matplotlib/collections.py:590: FutureWarning: elementwise comparison failed; returning scalar instead, but in the future will perform elementwise comparison\n",
      "  if self._edgecolors == str('face'):\n"
     ]
    },
    {
     "data": {
      "image/png": "[encoded data removed]",
      "text/plain": [
       "<matplotlib.figure.Figure at 0x7fdae8108cc0>"
      ]
     },
     "metadata": {},
     "output_type": "display_data"
    }
   ],
   "source": [
    "xs = np.linspace(-1, 1, num=500)\n",
    "ys = np.linspace(-1, 1, num=500)\n",
    "xx, yy = np.meshgrid(xs, ys)\n",
    "\n",
    "z = np.arctan2(xx, yy)\n",
    "plt.matshow(z, extent=(xs.min(), xs.max(), ys.max(), ys.min()))\n",
    "plt.title(\"atan2(x, y)\")\n",
    "plt.xlabel(\"x\")\n",
    "plt.ylabel(\"y\")\n",
    "plt.colorbar()\n",
    "plt.set_cmap(\"summer\")"
   ]
  },
  {
   "cell_type": "code",
   "execution_count": 142,
   "metadata": {
    "collapsed": false
   },
   "outputs": [
    {
     "data": {
      "image/png": "[encoded data removed]",
      "text/plain": [
       "<matplotlib.figure.Figure at 0x7fdae871d5f8>"
      ]
     },
     "metadata": {},
     "output_type": "display_data"
    }
   ],
   "source": [
    "plt.rcParams[\"figure.figsize\"] = 16, 12\n",
    "fig = plt.figure()\n",
    "fig.suptitle(\"arctan2(x, y) vs x for various y\", fontsize=16)\n",
    "for i, y_val in enumerate((-1, -1e-2, 0, 1e-2, 0.2, 1)):\n",
    "    ax = fig.add_subplot(3, 2, i + 1)\n",
    "    ax.plot(xs, np.arctan2(xs, y_val))\n",
    "    ax.set_title(\"y = {}\".format(y_val))\n",
    "plt.tight_layout()\n",
    "plt.subplots_adjust(top=.94)\n",
    "plt.rcParams[\"figure.figsize\"] = plt.rcParamsDefault[\"figure.figsize\"]"
   ]
  },
  {
   "cell_type": "markdown",
   "metadata": {},
   "source": [
    "We can clearly see the discontinuity when $x$ is close to zero and $y$ is negative. The value jumps instantaneously from $-\\pi$ to $\\pi$ between a negative and positive $x$. When $y$ is close to zero, there is a continuous jump. To see where this happens in a quaternion to Euler angle transformation, we notice that `euler_from_quaternion()` uses the \"sxyz\" axis."
   ]
  },
  {
   "cell_type": "code",
   "execution_count": 22,
   "metadata": {
    "collapsed": false
   },
   "outputs": [
    {
     "data": {
      "image/png": "[encoded data removed]",
      "text/latex": [
       "$$\\left ( 0, \\quad 0, \\quad 0, \\quad 0\\right )$$"
      ],
      "text/plain": [
       "(0, 0, 0, 0)"
      ]
     },
     "execution_count": 22,
     "metadata": {},
     "output_type": "execute_result"
    }
   ],
   "source": [
    "_AXES2TUPLE[\"sxyz\"]  # inner axis, parity, repetition, frame"
   ]
  },
  {
   "cell_type": "markdown",
   "metadata": {},
   "source": [
    "The first axis is \\#0, there is no parity or repetition, and the frame is \\#0. We can use that information to simplify the `euler_from_matrix()` function."
   ]
  },
  {
   "cell_type": "code",
   "execution_count": 153,
   "metadata": {
    "collapsed": true
   },
   "outputs": [],
   "source": [
    "def euler_from_matrix_simplified(matrix):\n",
    "    i = 0\n",
    "    j = _NEXT_AXIS[0]\n",
    "    k = _NEXT_AXIS[1]\n",
    "\n",
    "    M = numpy.array(matrix, dtype=numpy.float64, copy=False)[:3, :3]\n",
    "\n",
    "    cy = math.sqrt(M[i, i]*M[i, i] + M[j, i]*M[j, i])\n",
    "    if cy > _EPS:\n",
    "        ax = math.atan2( M[k, j],  M[k, k])\n",
    "        ay = math.atan2(-M[k, i],  cy)\n",
    "        az = math.atan2( M[j, i],  M[i, i])\n",
    "    else:\n",
    "        ax = math.atan2(-M[j, k],  M[j, j])\n",
    "        ay = math.atan2(-M[k, i],  cy)\n",
    "        az = 0.0\n",
    "\n",
    "    return ax, ay, az"
   ]
  },
  {
   "cell_type": "markdown",
   "metadata": {},
   "source": [
    "The axes used are:"
   ]
  },
  {
   "cell_type": "code",
   "execution_count": 154,
   "metadata": {
    "collapsed": false
   },
   "outputs": [
    {
     "name": "stdout",
     "output_type": "stream",
     "text": [
      "0 1 2\n"
     ]
    }
   ],
   "source": [
    "i, j, k = 0, _NEXT_AXIS[0], _NEXT_AXIS[1]\n",
    "print(i, j, k)"
   ]
  },
  {
   "cell_type": "markdown",
   "metadata": {},
   "source": [
    "With `euler_from_quaternion()`, `M` is a 4x4 matrix, shown below."
   ]
  },
  {
   "cell_type": "code",
   "execution_count": 155,
   "metadata": {
    "collapsed": false
   },
   "outputs": [
    {
     "data": {
      "image/png": "[encoded data removed]",
      "text/latex": [
       "$$\\left[\\begin{matrix}x^{2} & x y & x z & w x\\\\x y & y^{2} & y z & w y\\\\x z & y z & z^{2} & w z\\\\w x & w y & w z & w^{2}\\end{matrix}\\right]$$"
      ],
      "text/plain": [
       "⎡ 2                ⎤\n",
       "⎢x    x⋅y  x⋅z  w⋅x⎥\n",
       "⎢                  ⎥\n",
       "⎢      2           ⎥\n",
       "⎢x⋅y  y    y⋅z  w⋅y⎥\n",
       "⎢                  ⎥\n",
       "⎢           2      ⎥\n",
       "⎢x⋅z  y⋅z  z    w⋅z⎥\n",
       "⎢                  ⎥\n",
       "⎢                2 ⎥\n",
       "⎣w⋅x  w⋅y  w⋅z  w  ⎦"
      ]
     },
     "execution_count": 155,
     "metadata": {},
     "output_type": "execute_result"
    }
   ],
   "source": [
    "M"
   ]
  },
  {
   "cell_type": "markdown",
   "metadata": {},
   "source": [
    "The first term of the arctangent can be zero if any of `M[k, j]`, `M[k, i]`, `M[j, i]`, or `M[j, k]` is zero."
   ]
  },
  {
   "cell_type": "code",
   "execution_count": 156,
   "metadata": {
    "collapsed": false
   },
   "outputs": [
    {
     "name": "stdout",
     "output_type": "stream",
     "text": [
      "y*z x*z x*y y*z\n"
     ]
    }
   ],
   "source": [
    "print(M[k, j], M[k, i], M[j, i], M[j, k])"
   ]
  },
  {
   "cell_type": "markdown",
   "metadata": {},
   "source": [
    "In other words, if any of the x, y, and z components of the quaternion is zero, then the Euler angle will have a singularity if the second term is negative or small. However, since all second terms are either squares or sums of squares, none of them can be neagative."
   ]
  },
  {
   "cell_type": "code",
   "execution_count": 157,
   "metadata": {
    "collapsed": false
   },
   "outputs": [
    {
     "name": "stdout",
     "output_type": "stream",
     "text": [
      "x**2 y**2 z**2 sqrt(x**4 + x**2*y**2)\n"
     ]
    }
   ],
   "source": [
    "print(M[i, i], M[j, j], M[k, k], sm.sqrt(M[i, i]*M[i, i] + M[j, i]*M[j, i]))"
   ]
  },
  {
   "cell_type": "markdown",
   "metadata": {},
   "source": [
    "So, the jump occurs if at least one of the x, y, and z components is approximately zero, and another is zero or a small positive. The relationship is shown in the following table.\n",
    "\n",
    "| $\\approx 0$ |       small positive or zero |\n",
    "|-------------|-----------------------------:|\n",
    "| $yz$        | $z^2$ (if `cy` > 0) or $y^2$ |\n",
    "| $xz$        |        $\\sqrt{x^4 + x^2y^2}$ |\n",
    "| $xy$        |                        $x^2$ |\n",
    "\n",
    "Note that the second term being zero only yields a jump if the first term is not exactly equal to zero. This is because `np.arctan2(0, 0)` is defined as 0."
   ]
  },
  {
   "cell_type": "markdown",
   "metadata": {},
   "source": [
    "# Angles between quaternions"
   ]
  },
  {
   "cell_type": "markdown",
   "metadata": {},
   "source": [
    "The functions I'm using are:"
   ]
  },
  {
   "cell_type": "code",
   "execution_count": 194,
   "metadata": {
    "collapsed": true
   },
   "outputs": [],
   "source": [
    "def unit_vector(v):\n",
    "    \"\"\"\n",
    "    Change the length of the vector to unity in the same direction.\n",
    "\n",
    "    Parameters\n",
    "    ----------\n",
    "    v : np.ndarray\n",
    "        A vector to be normalized.\n",
    "\n",
    "    Returns\n",
    "    -------\n",
    "    np.ndarray\n",
    "        The normalized vector, or the original vector if it has a length of 0.\n",
    "\n",
    "    \"\"\"\n",
    "    norm = np.linalg.norm(v)\n",
    "    if norm:\n",
    "        return v / norm\n",
    "    else:\n",
    "        return np.asarray(v)\n",
    "\n",
    "    \n",
    "def angle_between(a, b):\n",
    "    \"\"\"\n",
    "    Find the angle between two vectors.\n",
    "\n",
    "    Parameters\n",
    "    ----------\n",
    "    a : Sequence[float]\n",
    "        A vector of length n.\n",
    "    b : Sequence[float]\n",
    "        A vector of length n.\n",
    "\n",
    "    Returns\n",
    "    -------\n",
    "    float\n",
    "        The angle between the quaternions, in radians.\n",
    "\n",
    "    Raises\n",
    "    ------\n",
    "    ValueError\n",
    "        If the lengths of the vectors are different.\n",
    "\n",
    "    Examples\n",
    "    --------\n",
    "    >>> angle_between([1, 0, 0], [0, 1, 0])\n",
    "    1.5707963267948966\n",
    "    >>> angle_between([1, 0, 0], [1, 0, 0])\n",
    "    0.0\n",
    "    >>> angle_between([1, 0, 0], [-1, 0, 0])\n",
    "    3.1415926535897931\n",
    "\n",
    "    \"\"\"\n",
    "    return np.arccos(np.clip(np.dot(unit_vector(a), unit_vector(b)), -1, 1))\n",
    "\n",
    "\n",
    "def angle_between_quaternions(a, b):\n",
    "    \"\"\"\n",
    "    Find the angle between two quaternions.\n",
    "\n",
    "    Parameters\n",
    "    ----------\n",
    "    a : Sequence[float]\n",
    "        A quaternion in the order of x, y, z, w.\n",
    "    b : Sequence[float]\n",
    "        A quaternion in the order of x, y, z, w.\n",
    "\n",
    "    Returns\n",
    "    -------\n",
    "    float\n",
    "        The angle between the quaternions, in radians.\n",
    "\n",
    "    Examples\n",
    "    --------\n",
    "    >>> angle_between_quaternions([0, 0, 0, 1], [0, 0, 0, 1])\n",
    "    0.0\n",
    "    >>> angle_between_quaternions([0, 0, 0, 1], [0, -1, 0, 1])\n",
    "    1.5707963267948968\n",
    "\n",
    "    \"\"\"\n",
    "    return 2 * angle_between(a, b)"
   ]
  },
  {
   "cell_type": "markdown",
   "metadata": {},
   "source": [
    "For a roll, yaw, pitch order, a drone pointing east with body level, and one pointing east with body perpendicular to the ground, would have an angle of 90 degrees."
   ]
  },
  {
   "cell_type": "code",
   "execution_count": 176,
   "metadata": {
    "collapsed": false
   },
   "outputs": [
    {
     "data": {
      "image/png": "[encoded data removed]",
      "text/latex": [
       "$$90.0$$"
      ],
      "text/plain": [
       "90.0"
      ]
     },
     "execution_count": 176,
     "metadata": {},
     "output_type": "execute_result"
    }
   ],
   "source": [
    "np.rad2deg(angle_between_quaternions(quaternion_from_euler(*np.deg2rad([0, 90, 0])),\n",
    "                                     quaternion_from_euler(*np.deg2rad([90, 0, 90]))))"
   ]
  },
  {
   "cell_type": "markdown",
   "metadata": {},
   "source": [
    "The same thing happens when the drone points north with body level."
   ]
  },
  {
   "cell_type": "code",
   "execution_count": 177,
   "metadata": {
    "collapsed": false
   },
   "outputs": [
    {
     "data": {
      "image/png": "[encoded data removed]",
      "text/latex": [
       "$$90.0$$"
      ],
      "text/plain": [
       "90.0"
      ]
     },
     "execution_count": 177,
     "metadata": {},
     "output_type": "execute_result"
    }
   ],
   "source": [
    "np.rad2deg(angle_between_quaternions(quaternion_from_euler(*np.deg2rad([0, 90, 0])),\n",
    "                                     quaternion_from_euler(*np.deg2rad([0, 0, 0]))))"
   ]
  },
  {
   "cell_type": "markdown",
   "metadata": {},
   "source": [
    "However, when the drone is pointing north with body perpendicular, we get 120 degrees, but I do not understand why."
   ]
  },
  {
   "cell_type": "code",
   "execution_count": 202,
   "metadata": {
    "collapsed": false
   },
   "outputs": [
    {
     "data": {
      "image/png": "[encoded data removed]",
      "text/latex": [
       "$$120.0$$"
      ],
      "text/plain": [
       "120.0"
      ]
     },
     "execution_count": 202,
     "metadata": {},
     "output_type": "execute_result"
    }
   ],
   "source": [
    "np.rad2deg(angle_between_quaternions(quaternion_from_euler(*np.deg2rad([0, 90, 0])),\n",
    "                                     quaternion_from_euler(*np.deg2rad([90, 0, 0]))))"
   ]
  },
  {
   "cell_type": "code",
   "execution_count": 233,
   "metadata": {
    "collapsed": false
   },
   "outputs": [
    {
     "data": {
      "image/png": "[encoded data removed]",
      "text/latex": [
       "$$62.7994296198$$"
      ],
      "text/plain": [
       "62.7994296198"
      ]
     },
     "execution_count": 233,
     "metadata": {},
     "output_type": "execute_result"
    }
   ],
   "source": [
    "np.rad2deg(angle_between_quaternions(quaternion_from_euler(*np.deg2rad([0, 0, 0])),\n",
    "                                     quaternion_from_euler(*np.deg2rad([45, 0, 45]))))"
   ]
  },
  {
   "cell_type": "markdown",
   "metadata": {},
   "source": [
    "The angle between quaternions is equal to 90 iff both pitch and roll are equal."
   ]
  },
  {
   "cell_type": "code",
   "execution_count": 227,
   "metadata": {
    "collapsed": false
   },
   "outputs": [
    {
     "name": "stderr",
     "output_type": "stream",
     "text": [
      "/usr/local/lib/python3.4/dist-packages/matplotlib/collections.py:590: FutureWarning: elementwise comparison failed; returning scalar instead, but in the future will perform elementwise comparison\n",
      "  if self._edgecolors == str('face'):\n"
     ]
    },
    {
     "data": {
      "image/png": "[encoded data removed]",
      "text/plain": [
       "<matplotlib.figure.Figure at 0x7fdae867f6a0>"
      ]
     },
     "metadata": {},
     "output_type": "display_data"
    }
   ],
   "source": [
    "rolls = np.linspace(-np.pi, np.pi)\n",
    "pitches = np.linspace(-np.pi, np.pi)\n",
    "\n",
    "z = np.array([angle_between_quaternions(quaternion_from_euler(0, np.pi/2, 0),\n",
    "                                        quaternion_from_euler(roll, 0, pitch))\n",
    "              for roll in rolls for pitch in pitches]).reshape(len(rolls), len(pitches))\n",
    "plt.imshow(np.rad2deg(z),\n",
    "           extent=np.rad2deg([rolls.min(), rolls.max(),\n",
    "                              pitches.max(), pitches.min()]))\n",
    "plt.colorbar()\n",
    "plt.xlabel(\"roll\")\n",
    "plt.ylabel(\"pitch\")\n",
    "plt.title(\"angle between quaternion with (0, 90, 0)\")\n",
    "plt.set_cmap(\"summer\")"
   ]
  },
  {
   "cell_type": "markdown",
   "metadata": {},
   "source": [
    "# Functions used in doctests"
   ]
  },
  {
   "cell_type": "markdown",
   "metadata": {},
   "source": [
    "Do not run unless you need to run the doctests."
   ]
  },
  {
   "cell_type": "code",
   "execution_count": null,
   "metadata": {
    "collapsed": true
   },
   "outputs": [],
   "source": [
    "def euler_matrix(ai, aj, ak, axes='sxyz'):\n",
    "    \"\"\"Return homogeneous rotation matrix from Euler angles and axis sequence.\n",
    "    ai, aj, ak : Euler's roll, pitch and yaw angles\n",
    "    axes : One of 24 axis sequences as string or encoded tuple\n",
    "    >>> R = euler_matrix(1, 2, 3, 'syxz')\n",
    "    >>> numpy.allclose(numpy.sum(R[0]), -1.34786452)\n",
    "    True\n",
    "    >>> R = euler_matrix(1, 2, 3, (0, 1, 0, 1))\n",
    "    >>> numpy.allclose(numpy.sum(R[0]), -0.383436184)\n",
    "    True\n",
    "    >>> ai, aj, ak = (4.0*math.pi) * (numpy.random.random(3) - 0.5)\n",
    "    >>> for axes in _AXES2TUPLE.keys():\n",
    "    ...    R = euler_matrix(ai, aj, ak, axes)\n",
    "    >>> for axes in _TUPLE2AXES.keys():\n",
    "    ...    R = euler_matrix(ai, aj, ak, axes)\n",
    "    \"\"\"\n",
    "    try:\n",
    "        firstaxis, parity, repetition, frame = _AXES2TUPLE[axes]\n",
    "    except (AttributeError, KeyError):\n",
    "        _ = _TUPLE2AXES[axes]\n",
    "        firstaxis, parity, repetition, frame = axes\n",
    "\n",
    "    i = firstaxis\n",
    "    j = _NEXT_AXIS[i+parity]\n",
    "    k = _NEXT_AXIS[i-parity+1]\n",
    "\n",
    "    if frame:\n",
    "        ai, ak = ak, ai\n",
    "    if parity:\n",
    "        ai, aj, ak = -ai, -aj, -ak\n",
    "\n",
    "    si, sj, sk = math.sin(ai), math.sin(aj), math.sin(ak)\n",
    "    ci, cj, ck = math.cos(ai), math.cos(aj), math.cos(ak)\n",
    "    cc, cs = ci*ck, ci*sk\n",
    "    sc, ss = si*ck, si*sk\n",
    "\n",
    "    M = numpy.identity(4)\n",
    "    if repetition:\n",
    "        M[i, i] = cj\n",
    "        M[i, j] = sj*si\n",
    "        M[i, k] = sj*ci\n",
    "        M[j, i] = sj*sk\n",
    "        M[j, j] = -cj*ss+cc\n",
    "        M[j, k] = -cj*cs-sc\n",
    "        M[k, i] = -sj*ck\n",
    "        M[k, j] = cj*sc+cs\n",
    "        M[k, k] = cj*cc-ss\n",
    "    else:\n",
    "        M[i, i] = cj*ck\n",
    "        M[i, j] = sj*sc-cs\n",
    "        M[i, k] = sj*cc+ss\n",
    "        M[j, i] = cj*sk\n",
    "        M[j, j] = sj*ss+cc\n",
    "        M[j, k] = sj*cs-sc\n",
    "        M[k, i] = -sj\n",
    "        M[k, j] = cj*si\n",
    "        M[k, k] = cj*ci\n",
    "    return M\n",
    "\n",
    "def unit_vector(data, axis=None, out=None):\n",
    "    \"\"\"Return ndarray normalized by length, i.e. eucledian norm, along axis.\n",
    "    >>> v0 = numpy.random.random(3)\n",
    "    >>> v1 = unit_vector(v0)\n",
    "    >>> numpy.allclose(v1, v0 / numpy.linalg.norm(v0))\n",
    "    True\n",
    "    >>> v0 = numpy.random.rand(5, 4, 3)\n",
    "    >>> v1 = unit_vector(v0, axis=-1)\n",
    "    >>> v2 = v0 / numpy.expand_dims(numpy.sqrt(numpy.sum(v0*v0, axis=2)), 2)\n",
    "    >>> numpy.allclose(v1, v2)\n",
    "    True\n",
    "    >>> v1 = unit_vector(v0, axis=1)\n",
    "    >>> v2 = v0 / numpy.expand_dims(numpy.sqrt(numpy.sum(v0*v0, axis=1)), 1)\n",
    "    >>> numpy.allclose(v1, v2)\n",
    "    True\n",
    "    >>> v1 = numpy.empty((5, 4, 3), dtype=numpy.float64)\n",
    "    >>> unit_vector(v0, axis=1, out=v1)\n",
    "    >>> numpy.allclose(v1, v2)\n",
    "    True\n",
    "    >>> list(unit_vector([]))\n",
    "    []\n",
    "    >>> list(unit_vector([1.0]))\n",
    "    [1.0]\n",
    "    \"\"\"\n",
    "    if out is None:\n",
    "        data = numpy.array(data, dtype=numpy.float64, copy=True)\n",
    "        if data.ndim == 1:\n",
    "            data /= math.sqrt(numpy.dot(data, data))\n",
    "            return data\n",
    "    else:\n",
    "        if out is not data:\n",
    "            out[:] = numpy.array(data, copy=False)\n",
    "        data = out\n",
    "    length = numpy.atleast_1d(numpy.sum(data*data, axis))\n",
    "    numpy.sqrt(length, length)\n",
    "    if axis is not None:\n",
    "        length = numpy.expand_dims(length, axis)\n",
    "    data /= length\n",
    "    if out is None:\n",
    "        return data\n",
    "    \n",
    "def rotation_matrix(angle, direction, point=None):\n",
    "    \"\"\"Return matrix to rotate about axis defined by point and direction.\n",
    "    >>> angle = (random.random() - 0.5) * (2*math.pi)\n",
    "    >>> direc = numpy.random.random(3) - 0.5\n",
    "    >>> point = numpy.random.random(3) - 0.5\n",
    "    >>> R0 = rotation_matrix(angle, direc, point)\n",
    "    >>> R1 = rotation_matrix(angle-2*math.pi, direc, point)\n",
    "    >>> is_same_transform(R0, R1)\n",
    "    True\n",
    "    >>> R0 = rotation_matrix(angle, direc, point)\n",
    "    >>> R1 = rotation_matrix(-angle, -direc, point)\n",
    "    >>> is_same_transform(R0, R1)\n",
    "    True\n",
    "    >>> I = numpy.identity(4, numpy.float64)\n",
    "    >>> numpy.allclose(I, rotation_matrix(math.pi*2, direc))\n",
    "    True\n",
    "    >>> numpy.allclose(2., numpy.trace(rotation_matrix(math.pi/2,\n",
    "    ...                                                direc, point)))\n",
    "    True\n",
    "    \n",
    "    \"\"\"\n",
    "    sina = math.sin(angle)\n",
    "    cosa = math.cos(angle)\n",
    "    direction = unit_vector(direction[:3])\n",
    "    # rotation matrix around unit vector\n",
    "    R = numpy.array(((cosa, 0.0,  0.0),\n",
    "                     (0.0,  cosa, 0.0),\n",
    "                     (0.0,  0.0,  cosa)), dtype=numpy.float64)\n",
    "    R += numpy.outer(direction, direction) * (1.0 - cosa)\n",
    "    direction *= sina\n",
    "    R += numpy.array((( 0.0,         -direction[2],  direction[1]),\n",
    "                      ( direction[2], 0.0,          -direction[0]),\n",
    "                      (-direction[1], direction[0],  0.0)),\n",
    "                     dtype=numpy.float64)\n",
    "    M = numpy.identity(4)\n",
    "    M[:3, :3] = R\n",
    "    if point is not None:\n",
    "        # rotation not around origin\n",
    "        point = numpy.array(point[:3], dtype=numpy.float64, copy=False)\n",
    "        M[:3, 3] = point - numpy.dot(R, point)\n",
    "    return M"
   ]
  }
 ],
 "metadata": {
  "kernelspec": {
   "display_name": "Python 3",
   "language": "python",
   "name": "python3"
  },
  "language_info": {
   "codemirror_mode": {
    "name": "ipython",
    "version": 3
   },
   "file_extension": ".py",
   "mimetype": "text/x-python",
   "name": "python",
   "nbconvert_exporter": "python",
   "pygments_lexer": "ipython3",
   "version": "3.4.3"
  }
 },
 "nbformat": 4,
 "nbformat_minor": 0
}
